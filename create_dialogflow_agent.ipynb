{
 "cells": [
  {
   "cell_type": "code",
   "execution_count": 24,
   "metadata": {},
   "outputs": [],
   "source": [
    "#! pip install google-cloud-dialogflow\n",
    "#! pip install python-dotenv\n"
   ]
  },
  {
   "cell_type": "markdown",
   "metadata": {},
   "source": [
    "### Choose GCP project ID\n",
    "\n",
    "Move to GCP console, you can find project_id will be used in the DialogFlow agent.\n",
    "\n",
    "\n",
    "![project list](resources/df_1.project_selection.png)\n",
    "\n",
    "I stored project id into my environment variable - PROJECT_ID. "
   ]
  },
  {
   "cell_type": "code",
   "execution_count": 25,
   "metadata": {},
   "outputs": [],
   "source": [
    "import os\n",
    "from dotenv import load_dotenv\n",
    "\n",
    "# override env variable values.\n",
    "# set the 'PROJECT_ID' values in the '/.env' file. (or set your project_id value directly)\n",
    "load_dotenv() \n",
    "\n",
    "PROJECT_ID=os.getenv('PROJECT_ID')\n",
    "AGENT_DISPLAY_NAME=\"dialogflow_with_apis\"\n",
    "LANG_CODE=\"ko\"\n",
    "TIME_ZONE=\"Asia/Seoul\"\n",
    "\n"
   ]
  },
  {
   "cell_type": "code",
   "execution_count": 26,
   "metadata": {},
   "outputs": [],
   "source": [
    "from google.cloud.dialogflow_v2 import Agent, AgentsClient, SetAgentRequest\n",
    "import google.protobuf.field_mask_pb2\n",
    "\n",
    "def set_agent(project_id, display_name, language_code, time_zone):\n",
    "    agents_client = AgentsClient()\n",
    "\n",
    "    parent = agents_client.common_project_path(project_id)\n",
    "\n",
    "    agent = Agent(\n",
    "        parent=parent,\n",
    "        display_name=display_name,\n",
    "        default_language_code=language_code, # \"en\",\n",
    "        time_zone=time_zone #\"America/Los_Angeles\",\n",
    "    )\n",
    "\n",
    "    update_mask = google.protobuf.field_mask_pb2.FieldMask()\n",
    "    update_mask.FromJsonString(\"displayName,defaultLanguageCode,timeZone\")\n",
    "\n",
    "    request = SetAgentRequest(\n",
    "        agent=agent,\n",
    "        update_mask=update_mask,\n",
    "    )\n",
    "\n",
    "    return agents_client.set_agent(request=request)\n"
   ]
  },
  {
   "cell_type": "code",
   "execution_count": 27,
   "metadata": {},
   "outputs": [],
   "source": [
    "dialogflow_agent = set_agent(\n",
    "    PROJECT_ID, \n",
    "    AGENT_DISPLAY_NAME,\n",
    "    LANG_CODE,\n",
    "    TIME_ZONE\n",
    "\n",
    ")"
   ]
  },
  {
   "cell_type": "markdown",
   "metadata": {},
   "source": [
    "### Verify the agent exists on the DialogFlow Console. \n",
    "\n",
    "After creation an agent with API, you can see the agent on the DialogFlow Console.\n",
    "\n",
    "![dialog flow agent](resources/df_2.dialogflow_agent_creation.png)"
   ]
  },
  {
   "cell_type": "markdown",
   "metadata": {},
   "source": [
    "### Create a new Intent\n",
    "\n",
    "Intent 구성이 정적일 경우면, 즉 정확한 의도를 잘 찾고 해당하는 의도에 맞는 답변을 \"정적\"으로 돌려주는 것이라면, \n",
    "Intent 구성만 진행하면 된다. \n",
    "\n",
    "하지만 대부분의 경우, Response를 제공해 주기 위하여 Backend에 있는 REST API등을 호출하여 원하는 결과를 동적으로 수행하게 만들어 주는 경우가 많으며, \n",
    "이 경우, REST API호출을 담당하는 Fullfilment 구성을 수행하여야 한다. \n",
    "\n",
    "먼저, 인텐트 전체 목록을 가지고 오자.\n"
   ]
  },
  {
   "cell_type": "code",
   "execution_count": 28,
   "metadata": {},
   "outputs": [],
   "source": [
    "def list_intents(project_id):\n",
    "    from google.cloud import dialogflow\n",
    "\n",
    "    intents_client = dialogflow.IntentsClient()\n",
    "\n",
    "    parent = dialogflow.AgentsClient.agent_path(project_id)\n",
    "\n",
    "    intents = intents_client.list_intents(request={\"parent\": parent})\n",
    "\n",
    "    for intent in intents:\n",
    "        print(\"=\" * 20)\n",
    "        #print(\"Intent name: {}\".format(intent.name))\n",
    "        print(\"Intent display_name: {}\".format(intent.display_name))\n",
    "        print(\"Action: {}\\n\".format(intent.action))\n",
    "        print(\"Root followup intent: {}\".format(intent.root_followup_intent_name))\n",
    "        print(\"Parent followup intent: {}\\n\".format(intent.parent_followup_intent_name))\n",
    "\n",
    "        print(\"Input contexts:\")\n",
    "        for input_context_name in intent.input_context_names:\n",
    "            print(\"\\tName: {}\".format(input_context_name))\n",
    "\n",
    "        print(\"Output contexts:\")\n",
    "        for output_context in intent.output_contexts:\n",
    "            print(\"\\tName: {}\".format(output_context.name))\n",
    "\n"
   ]
  },
  {
   "cell_type": "code",
   "execution_count": 23,
   "metadata": {},
   "outputs": [
    {
     "name": "stdout",
     "output_type": "stream",
     "text": [
      "====================\n",
      "Intent display_name: Default Fallback Intent\n",
      "Action: input.unknown\n",
      "\n",
      "Root followup intent: \n",
      "Parent followup intent: \n",
      "\n",
      "Input contexts:\n",
      "Output contexts:\n",
      "====================\n",
      "Intent display_name: Default Welcome Intent\n",
      "Action: input.welcome\n",
      "\n",
      "Root followup intent: \n",
      "Parent followup intent: \n",
      "\n",
      "Input contexts:\n",
      "Output contexts:\n"
     ]
    }
   ],
   "source": [
    "list_intents(PROJECT_ID)\n"
   ]
  },
  {
   "cell_type": "code",
   "execution_count": null,
   "metadata": {},
   "outputs": [],
   "source": [
    "\n",
    "def create_intent(project_id, display_name, training_phrases_parts, message_texts):\n",
    "    \"\"\"Create an intent of the given intent type.\"\"\"\n",
    "    from google.cloud import dialogflow\n",
    "\n",
    "    intents_client = dialogflow.IntentsClient()\n",
    "\n",
    "    parent = dialogflow.AgentsClient.agent_path(project_id)\n",
    "    training_phrases = []\n",
    "    for training_phrases_part in training_phrases_parts:\n",
    "        part = dialogflow.Intent.TrainingPhrase.Part(text=training_phrases_part)\n",
    "        # Here we create a new training phrase for each provided part.\n",
    "        training_phrase = dialogflow.Intent.TrainingPhrase(parts=[part])\n",
    "        training_phrases.append(training_phrase)\n",
    "\n",
    "    text = dialogflow.Intent.Message.Text(text=message_texts)\n",
    "    message = dialogflow.Intent.Message(text=text)\n",
    "\n",
    "    intent = dialogflow.Intent(\n",
    "        display_name=display_name, training_phrases=training_phrases, messages=[message]\n",
    "    )\n",
    "\n",
    "    response = intents_client.create_intent(\n",
    "        request={\"parent\": parent, \"intent\": intent}\n",
    "    )\n",
    "\n",
    "    print(\"Intent created: {}\".format(response))\n",
    "\n"
   ]
  },
  {
   "cell_type": "markdown",
   "metadata": {},
   "source": [
    "### Modify Fallback Intent. \n",
    "\n",
    "Fallback intent has no session information. \n",
    "\n",
    "It means if the dialog session would be needed, the session should be kept on the Fullfillment webhook side. \n",
    "\n",
    "폴백 인텐트는 기본적으로 매칭되는 인텐트가 없을 때, 대응하는 인텐트이다.\n",
    "\n",
    "폴백 인텐트에 Search 기능을 담아보자.\n",
    "\n",
    "\n",
    "\n"
   ]
  },
  {
   "cell_type": "markdown",
   "metadata": {},
   "source": [
    "# Create a function to create a webhook.\n",
    "def create_webhook():\n",
    "    data = {\n",
    "        \"parent\": \"projects/project-id/agent\",\n",
    "        \"displayName\": \"webhook-display-name\",\n",
    "        \"uri\": \"https://example.com/webhook\"\n",
    "    }\n",
    "    response = send_request(\"POST\", base_url + \"projects/project-id/agent/webhooks\", data=data)\n",
    "    return response\n",
    "\n",
    "# Create a webhook.\n",
    "webhook = create_webhook()\n",
    "\n",
    "# Create a function to detect intent.\n",
    "def detect_intent():\n",
    "    data = {\n",
    "        \"queryInput\": {\n",
    "            \"text\": {\n",
    "                \"text\": \"What is the weather today?\"\n",
    "            }\n",
    "        },\n",
    "        \"queryParams\": {\n",
    "            \"timeZone\": \"America/Los_Angeles\"\n",
    "        }\n",
    "    }\n",
    "    response = send_request(\"POST\", base_url + \"projects/project-id/agent/sessions/1234567890:detectIntent\", data=data)\n",
    "    return response\n",
    "\n",
    "# Detect intent.\n",
    "response = detect_intent()\n",
    "\n",
    "# Print the response.\n",
    "print(response)"
   ]
  }
 ],
 "metadata": {
  "kernelspec": {
   "display_name": ".venv",
   "language": "python",
   "name": "python3"
  },
  "language_info": {
   "codemirror_mode": {
    "name": "ipython",
    "version": 3
   },
   "file_extension": ".py",
   "mimetype": "text/x-python",
   "name": "python",
   "nbconvert_exporter": "python",
   "pygments_lexer": "ipython3",
   "version": "3.9.6"
  }
 },
 "nbformat": 4,
 "nbformat_minor": 2
}
