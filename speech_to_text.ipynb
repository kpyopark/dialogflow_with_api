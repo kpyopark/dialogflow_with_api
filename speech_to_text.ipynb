{
 "cells": [
  {
   "cell_type": "code",
   "execution_count": 20,
   "metadata": {},
   "outputs": [
    {
     "name": "stdout",
     "output_type": "stream",
     "text": [
      "What's your name\n",
      "What's your name My name is 홍길동\n"
     ]
    }
   ],
   "source": [
    "from google.cloud import speech_v1p1beta1 as speech\n",
    "\n",
    "def stt(wav_uri) -> speech.RecognizeResponse:\n",
    "    # Instantiates a client\n",
    "    client = speech.SpeechClient()\n",
    "\n",
    "    # The name of the audio file to transcribe\n",
    "    #gcs_uri = \"gs://cloud-samples-data/speech/brooklyn_bridge.raw\"\n",
    "    #local_uri = \"file:./resources/english.wav\"\n",
    "    audio = speech.RecognitionAudio(uri=wav_uri)\n",
    "\n",
    "    config = speech.RecognitionConfig(\n",
    "        encoding=speech.RecognitionConfig.AudioEncoding.LINEAR16,\n",
    "        sample_rate_hertz=44100,\n",
    "        language_code=\"ko-KR\",\n",
    "        alternative_language_codes=[\"es-ES\", ],\n",
    "    )\n",
    "\n",
    "    # Detects speech in the audio file\n",
    "    response = client.recognize(config=config, audio=audio)\n",
    "    return response\n",
    "\n",
    "gcs_uri_en = \"gs://wav-file-examples/english_whatsyourname.wav\"\n",
    "\n",
    "gcs_uri_ek = \"gs://wav-file-examples/english_korean.wav\"\n",
    "\n",
    "\n",
    "response = stt(gcs_uri_en)\n",
    "response_text_en = response.results[0].alternatives[0].transcript\n",
    "response = stt(gcs_uri_ek)\n",
    "response_text_ek = response.results[0].alternatives[0].transcript\n",
    "\n",
    "print(response_text_en)\n",
    "print(response_text_ek)\n"
   ]
  },
  {
   "cell_type": "code",
   "execution_count": 22,
   "metadata": {},
   "outputs": [
    {
     "name": "stdout",
     "output_type": "stream",
     "text": [
      "en\n",
      "en\n",
      "ko\n"
     ]
    }
   ],
   "source": [
    "from langdetect import detect\n",
    "\n",
    "## Detect the language of the text\n",
    "\n",
    "print(detect(response_text_en))\n",
    "print(detect(response_text_ek))\n",
    "print(detect('홍길동입니다. 안녕하세요. '))"
   ]
  },
  {
   "cell_type": "code",
   "execution_count": null,
   "metadata": {},
   "outputs": [],
   "source": []
  }
 ],
 "metadata": {
  "kernelspec": {
   "display_name": ".venv",
   "language": "python",
   "name": "python3"
  },
  "language_info": {
   "codemirror_mode": {
    "name": "ipython",
    "version": 3
   },
   "file_extension": ".py",
   "mimetype": "text/x-python",
   "name": "python",
   "nbconvert_exporter": "python",
   "pygments_lexer": "ipython3",
   "version": "3.9.5"
  }
 },
 "nbformat": 4,
 "nbformat_minor": 2
}
