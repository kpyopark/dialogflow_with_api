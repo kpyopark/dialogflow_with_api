{
 "cells": [
  {
   "cell_type": "markdown",
   "metadata": {},
   "source": [
    "## Make entry point (REST API) used as a DialogFlow tool. \n",
    "\n",
    "After make a function \n",
    "\n",
    "    gcloud run deploy \\\n",
    "    --allow-unauthenticated \\\n",
    "    --set-env-vars RAG_DBNAME='' \\\n",
    "    --set-env-vars RAG_HOST='' \\\n",
    "    --set-env-vars RAG_PORT='' \\\n",
    "    --set-env-vars RAG_USER='' \\\n",
    "    --set-env-vars RAG_PASSWORD=''\n",
    "    "
   ]
  },
  {
   "cell_type": "code",
   "execution_count": null,
   "metadata": {},
   "outputs": [],
   "source": [
    "\n"
   ]
  }
 ],
 "metadata": {
  "language_info": {
   "name": "python"
  }
 },
 "nbformat": 4,
 "nbformat_minor": 2
}
