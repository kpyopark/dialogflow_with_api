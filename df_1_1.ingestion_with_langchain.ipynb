{
 "cells": [
  {
   "cell_type": "code",
   "execution_count": null,
   "metadata": {},
   "outputs": [],
   "source": [
    "# ! pip install -U langchain-google-vertexai\n",
    "# ! pip install unstructured\n",
    "# ! pip install \"unstructured[pdf]\" -- It's terrirble to install this package. This pacakage will install CUDA and NVIDIA packages which are over 3GB."
   ]
  },
  {
   "cell_type": "code",
   "execution_count": null,
   "metadata": {},
   "outputs": [],
   "source": [
    "from typing import List\n",
    "import nbformat\n",
    "import requests\n",
    "import time\n",
    "\n",
    "# LangChain\n",
    "#from langchain.llms import VertexAI\n",
    "from langchain_google_vertexai import VertexAI\n",
    "from langchain.embeddings import VertexAIEmbeddings\n",
    "\n",
    "from langchain.schema.document import Document\n",
    "\n",
    "from langchain.text_splitter import RecursiveCharacterTextSplitter\n",
    "from langchain.text_splitter import Language\n",
    "\n",
    "from langchain.prompts import PromptTemplate\n",
    "from langchain.chains import RetrievalQA\n",
    "\n",
    "# Vertex AI\n",
    "from google.cloud import aiplatform\n",
    "import vertexai"
   ]
  },
  {
   "cell_type": "code",
   "execution_count": null,
   "metadata": {},
   "outputs": [],
   "source": [
    "from dotenv import load_dotenv\n",
    "import os\n",
    "\n",
    "load_dotenv()\n",
    "\n",
    "PROJECT_ID = os.getenv(\"PROJECT_ID\")\n",
    "LOCATION = os.getenv(\"LOCATION\")\n",
    "VERTEXAI_LOCATION = os.getenv(\"VERTEXAI_LOCATION\")\n",
    "GCS_BUCKET = os.getenv(\"GCS_BUCKET\")\n",
    "VECTOR_SEARCH_DATASET = os.getenv(\"VECTOR_SEARCH_DATASET\")\n",
    "VECTOR_SEARCH_TABLE = os.getenv(\"VECTOR_SEARCH_TABLE\")\n",
    "\n",
    "vertexai.init(project=PROJECT_ID, location=VERTEXAI_LOCATION)\n"
   ]
  },
  {
   "cell_type": "code",
   "execution_count": null,
   "metadata": {},
   "outputs": [],
   "source": [
    "from langchain_community.document_loaders import GCSFileLoader\n",
    "from google.cloud import storage\n",
    "from langchain_community.document_loaders import PyPDFLoader\n",
    "\n",
    "\n",
    "def load_pdf(file_path):\n",
    "    return PyPDFLoader(file_path)\n",
    "\n",
    "def is_pdf_file(url: str) -> bool:\n",
    "    return url.lower().endswith(\".pdf\")\n",
    "\n",
    "# Crawls a GitHub repository and returns a list of all ipynb files in the repository\n",
    "def crawl_gcs(url: str):\n",
    "    storage_client = storage.Client()\n",
    "    bucket_name = url.split(\"/\")[2]\n",
    "    prefix = \"/\".join(url.split(\"/\")[3:])\n",
    "    blobs = storage_client.list_blobs(bucket_name, prefix=prefix)\n",
    "    pdf_file_loaders = []\n",
    "    for blob in blobs:\n",
    "        if is_pdf_file(blob.name):\n",
    "            file_uri = f\"gs://{bucket_name}/{blob.name}\"\n",
    "            loader = GCSFileLoader(project_name='turnkey-charter-358922', bucket=bucket_name, blob=blob.name, loader_func=load_pdf)\n",
    "            documents = loader.load()\n",
    "            pdf_file_loaders.append(documents) \n",
    "    return pdf_file_loaders\n",
    "    "
   ]
  },
  {
   "cell_type": "code",
   "execution_count": null,
   "metadata": {},
   "outputs": [],
   "source": [
    "from langchain_google_vertexai import VertexAIEmbeddings\n",
    "\n",
    "embedding = VertexAIEmbeddings(\n",
    "    model_name=\"textembedding-gecko-multilingual@latest\", project=PROJECT_ID\n",
    ")\n"
   ]
  },
  {
   "cell_type": "code",
   "execution_count": null,
   "metadata": {},
   "outputs": [],
   "source": [
    "from google.cloud import bigquery\n",
    "\n",
    "client = bigquery.Client(project=PROJECT_ID, location=LOCATION)\n",
    "client.create_dataset(dataset=VECTOR_SEARCH_DATASET, exists_ok=True)\n"
   ]
  },
  {
   "cell_type": "code",
   "execution_count": null,
   "metadata": {},
   "outputs": [],
   "source": [
    "from langchain.vectorstores.utils import DistanceStrategy\n",
    "from langchain_community.vectorstores import BigQueryVectorSearch\n",
    "\n",
    "store = BigQueryVectorSearch(\n",
    "    project_id=PROJECT_ID,\n",
    "    dataset_name=VECTOR_SEARCH_DATASET,\n",
    "    table_name=VECTOR_SEARCH_TABLE,\n",
    "    location=LOCATION,\n",
    "    embedding=embedding,\n",
    "    distance_strategy=DistanceStrategy.COSINE,\n",
    ")\n",
    "\n"
   ]
  },
  {
   "cell_type": "code",
   "execution_count": null,
   "metadata": {},
   "outputs": [],
   "source": [
    "pdf_files = crawl_gcs(f\"gs://{GCS_BUCKET}\")"
   ]
  },
  {
   "cell_type": "code",
   "execution_count": null,
   "metadata": {},
   "outputs": [],
   "source": [
    "## Add document in the Vector Store in BigQuery\n",
    "\n",
    "for documents in pdf_files:\n",
    "  # texts = [document.page_content for document in documents]\n",
    "  # meta = [document.metadata for document in documents]\n",
    "  store.add_documents(documents)\n"
   ]
  },
  {
   "cell_type": "code",
   "execution_count": null,
   "metadata": {},
   "outputs": [],
   "source": [
    "query = \"라이센스 정보가 어떻게 될까?\"\n",
    "docs = store.similarity_search(query, k=3)"
   ]
  },
  {
   "cell_type": "markdown",
   "metadata": {},
   "source": [
    "Wow. it's very easy to store embedding vectors into database. Just to use add_document method. \n",
    "\n",
    "Let's make a query API on GCP cloud run.\n",
    "\n",
    "Please refer to /cloudrun_rag directory\n"
   ]
  }
 ],
 "metadata": {
  "kernelspec": {
   "display_name": ".venv",
   "language": "python",
   "name": "python3"
  },
  "language_info": {
   "codemirror_mode": {
    "name": "ipython",
    "version": 3
   },
   "file_extension": ".py",
   "mimetype": "text/x-python",
   "name": "python",
   "nbconvert_exporter": "python",
   "pygments_lexer": "ipython3",
   "version": "3.9.5"
  }
 },
 "nbformat": 4,
 "nbformat_minor": 2
}
